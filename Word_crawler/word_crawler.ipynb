{
 "cells": [
  {
   "cell_type": "code",
   "execution_count": null,
   "metadata": {},
   "outputs": [],
   "source": [
    "import requests\n",
    "from bs4 import BeautifulSoup as bs4\n",
    "\n",
    "obj_title = 'food'\n",
    "title = list()\n",
    "for i in range(1,201):\n",
    "    url = \"https://search.naver.com/search.naver?where=news&sm=tab_pge&query=%EC%9D%8C%EC%8B%9D&sort=0&photo=0&field=0&pd=0&ds=&de=&cluster_rank=44&mynews=0&office_type=0&office_section_code=0&news_office_checked=&nso=so:r,p:all,a:all&start={}\".format(i)\n",
    "\n",
    "    res = requests.get(url)\n",
    "\n",
    "    html_doc = res.text\n",
    "\n",
    "    soup = bs4(html_doc, 'html.parser')\n",
    "    news_title = soup.findAll('a', {'class' : \"news_tit\"})\n",
    "\n",
    "    for i in range(len(news_title)):\n",
    "        title.append(news_title[i].get('title'))\n",
    "\n",
    "    if len(title) > 2000:\n",
    "        del title[2000,:]\n",
    "        break;\n",
    "\n",
    "f = open('{}_file.txt'.format(obj_title),'w' , encoding = 'utf-8')\n",
    "for i in range(len(title)):\n",
    "    f.write(title[i])\n",
    "    f.write('\\n')\n",
    "f.close()"
   ]
  }
 ],
 "metadata": {
  "kernelspec": {
   "display_name": "Python 3",
   "language": "python",
   "name": "python3"
  },
  "language_info": {
   "codemirror_mode": {
    "name": "ipython",
    "version": 3
   },
   "file_extension": ".py",
   "mimetype": "text/x-python",
   "name": "python",
   "nbconvert_exporter": "python",
   "pygments_lexer": "ipython3",
   "version": "3.7.6"
  }
 },
 "nbformat": 4,
 "nbformat_minor": 4
}
